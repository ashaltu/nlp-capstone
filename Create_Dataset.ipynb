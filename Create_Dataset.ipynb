{
  "nbformat": 4,
  "nbformat_minor": 0,
  "metadata": {
    "colab": {
      "name": "Create Dataset.ipynb",
      "provenance": [],
      "collapsed_sections": [],
      "toc_visible": true,
      "machine_shape": "hm"
    },
    "kernelspec": {
      "name": "python3",
      "display_name": "Python 3"
    },
    "language_info": {
      "name": "python"
    }
  },
  "cells": [
    {
      "cell_type": "markdown",
      "metadata": {
        "id": "15NOtugXWGyn"
      },
      "source": [
        "# Script to split data\n",
        "\n"
      ]
    },
    {
      "cell_type": "code",
      "metadata": {
        "id": "gb4dizC-RjWK"
      },
      "source": [
        "import random\n",
        "import os\n",
        "import nltk\n",
        "nltk.download('punkt')\n",
        "from nltk.tokenize import word_tokenize"
      ],
      "execution_count": null,
      "outputs": []
    },
    {
      "cell_type": "code",
      "metadata": {
        "id": "6ZfhDfEwxVDT"
      },
      "source": [
        "#!wget https://archive.org/download/ParaCrawl-v8.1-0000/es-ca.txt.gz             # Paracrawl\n",
        "#!wget https://opus.nlpl.eu/download.php?f=MultiCCAligned/v1/moses/es-it.txt.zip # MultiCCAligned\n",
        "#!wget https://opus.nlpl.eu/download.php?f=WikiMatrix/v1/moses/ca-it.txt.zip     # WikiMatrix"
      ],
      "execution_count": null,
      "outputs": []
    },
    {
      "cell_type": "code",
      "metadata": {
        "id": "9wNey562P9vG"
      },
      "source": [
        "# Tokenize data\n",
        "tokenizer = SentencePieceTokenizer(model_path=\"sentencepiece_models/src.model\",\n",
        "                                   vocabulary_path=\"sentencepiece_models/src.vocab\")"
      ],
      "execution_count": null,
      "outputs": []
    },
    {
      "cell_type": "code",
      "metadata": {
        "id": "KDfp0m40QPpr"
      },
      "source": [
        "with open(\"file.txt\") as f:\n",
        "    with open(os.path.join(\"./\", \"file.tok\"), mode=\"w\") as fout:\n",
        "      for line in f.readlines():\n",
        "          fout.write(\" \".join(tokenizer.tokenize(line)[0]) + \"\\n\")"
      ],
      "execution_count": null,
      "outputs": []
    },
    {
      "cell_type": "code",
      "metadata": {
        "id": "J_rRWO3HQ0Rq"
      },
      "source": [
        "with open(\"file.tok\") as f:\n",
        "    with open(os.path.join(\"./\", \"file.detok\"), mode=\"w\") as fout:\n",
        "      for line in f.readlines():\n",
        "          fout.write(tokenizer.detokenize(line.strip().split(\" \")) + \"\\n\")"
      ],
      "execution_count": null,
      "outputs": []
    },
    {
      "cell_type": "code",
      "metadata": {
        "id": "wbQ3uxE2S0ry"
      },
      "source": [
        "def split_data(data, train_size, val_size, test_size):\n",
        "  if train_size + val_size + test_size != 1.0:\n",
        "    raise Exception(\"Train, validation, and test sizes must add up to 1.\") \n",
        "  \n",
        "  train_mark = int(len(data) * train_size)\n",
        "  val_mark = train_mark + int(len(data) * val_size)\n",
        "\n",
        "  train_data = data[0:train_mark]\n",
        "  val_data = data[train_mark:val_mark]\n",
        "  test_data = data[val_mark:]\n",
        "\n",
        "  return train_data, val_data, test_data\n",
        "\n",
        "def save_data(data, data_folder_name, filename):\n",
        "  with open(os.path.join(data_folder_name, filename), mode=\"w\") as f:\n",
        "    for line in data:\n",
        "      f.write(\" \".join(word_tokenize(line)) + \"\\n\")"
      ],
      "execution_count": null,
      "outputs": []
    },
    {
      "cell_type": "code",
      "metadata": {
        "id": "A0-xZFkuPHBz"
      },
      "source": [
        "!cp '/content/gdrive/My Drive/capstone-data-final/es_ca.zip' .\n",
        "!cp '/content/gdrive/My Drive/capstone-data-final/es_it.zip' .\n",
        "!cp '/content/gdrive/My Drive/capstone-data-final/ca_it.zip' .\n",
        "\n",
        "!unzip es_ca.zip\n",
        "!unzip es_it.zip\n",
        "!unzip ca_it.zip\n",
        "\n",
        "# source = catalan   (ca)\n",
        "# pivot  = spanish   (es)\n",
        "# target = italian  (it)\n",
        "!mkdir src_pvt_data\n",
        "!mkdir pvt_tgt_data\n",
        "!mkdir src_tgt_data"
      ],
      "execution_count": null,
      "outputs": []
    },
    {
      "cell_type": "code",
      "metadata": {
        "id": "dDaA_H056gB1"
      },
      "source": [
        "!unzip es_ca.zip\n",
        "!unzip es_it.zip\n",
        "!unzip ca_it.zip"
      ],
      "execution_count": null,
      "outputs": []
    },
    {
      "cell_type": "code",
      "metadata": {
        "id": "QA96af32QapO"
      },
      "source": [
        "#src_data = []     # Catalan data\n",
        "#pvt_src_data = [] # Spanish data (parallel to Catalan data)\n",
        "\n",
        "tgt_data = []     # Italian data\n",
        "pvt_tgt_data = [] # Spanish data (parallel to Italian data)\n",
        "\n",
        "src_tgt_data = [] # Catalan data (parallel to Italian data)\n",
        "tgt_src_data = [] # Italian data (parallel to Catalan data)\n",
        "\n",
        "\"\"\"\n",
        "with open(\"es_ca/es-ca.ca\") as f:\n",
        "  src_data = f.readlines()\n",
        "\n",
        "with open(\"es_ca/es-ca.es\") as f:\n",
        "  pvt_src_data = f.readlines()\n",
        "\"\"\"  \n",
        "\n",
        "with open(\"es_it/es-it.it\") as f:\n",
        "  tgt_data = f.readlines()\n",
        "\n",
        "with open(\"es_it/es-it.es\") as f:\n",
        "  pvt_tgt_data = f.readlines()\n",
        "\n",
        "with open(\"ca_it/ca-it.ca\") as f:\n",
        "  src_tgt_data = f.readlines()\n",
        "\n",
        "with open(\"ca_it/ca-it.it\") as f:\n",
        "  tgt_src_data = f.readlines()"
      ],
      "execution_count": null,
      "outputs": []
    },
    {
      "cell_type": "code",
      "metadata": {
        "id": "4QMBjaNsUNm8"
      },
      "source": [
        "# Split data\n",
        "\"\"\"\n",
        "src_train, src_val, src_test = split_data(src_data, 0.8, 0.1, 0.1)\n",
        "pvt_src_train, pvt_src_val, pvt_src_test = split_data(pvt_src_data, 0.8, 0.1, 0.1)\n",
        "\"\"\"\n",
        "tgt_train, tgt_val, tgt_test = split_data(tgt_data, 0.8, 0.1, 0.1)\n",
        "pvt_tgt_train, pvt_tgt_val, pvt_tgt_test = split_data(pvt_tgt_data, 0.8, 0.1, 0.1)\n",
        "\n",
        "src_tgt_train, src_tgt_val, src_tgt_test = split_data(src_tgt_data, 0.8, 0.1, 0.1)\n",
        "tgt_src_train, tgt_src_val, tgt_src_test = split_data(tgt_src_data, 0.8, 0.1, 0.1)"
      ],
      "execution_count": null,
      "outputs": []
    },
    {
      "cell_type": "code",
      "metadata": {
        "id": "tUMoQlfmV68Q"
      },
      "source": [
        "# Save data\n",
        "\n",
        "save_data(src_train, \"src_pvt_data\", \"src_train.txt\")\n",
        "save_data(src_val, \"src_pvt_data\", \"src_val.txt\")\n",
        "save_data(src_test, \"src_pvt_data\", \"src_test.txt\")\n",
        "\n",
        "save_data(pvt_src_train, \"src_pvt_data\", \"pvt_src_train.txt\")\n",
        "save_data(pvt_src_val, \"src_pvt_data\", \"pvt_src_val.txt\")\n",
        "save_data(pvt_src_test, \"src_pvt_data\", \"pvt_src_test.txt\")\n",
        "\"\"\"\n",
        "\n",
        "save_data(tgt_train, \"pvt_tgt_data\", \"tgt_train.txt\")\n",
        "save_data(tgt_val, \"pvt_tgt_data\", \"tgt_val.txt\")\n",
        "save_data(tgt_test, \"pvt_tgt_data\", \"tgt_test.txt\")\n",
        "\n",
        "save_data(pvt_tgt_train, \"pvt_tgt_data\", \"pvt_tgt_train.txt\")\n",
        "save_data(pvt_tgt_val, \"pvt_tgt_data\", \"pvt_tgt_val.txt\")\n",
        "save_data(pvt_tgt_test, \"pvt_tgt_data\", \"pvt_tgt_test.txt\")\n",
        "\n",
        "save_data(src_tgt_train, \"src_tgt_data\", \"src_tgt_train.txt\")\n",
        "save_data(src_tgt_val, \"src_tgt_data\", \"src_tgt_val.txt\")\n",
        "save_data(src_tgt_test, \"src_tgt_data\", \"src_tgt_test.txt\")\n",
        "\n",
        "save_data(tgt_src_train, \"src_tgt_data\", \"tgt_src_train.txt\")\n",
        "save_data(tgt_src_val, \"src_tgt_data\", \"tgt_src_val.txt\")\n",
        "save_data(tgt_src_test, \"src_tgt_data\", \"tgt_src_test.txt\")\n",
        "\"\"\""
      ],
      "execution_count": null,
      "outputs": []
    },
    {
      "cell_type": "code",
      "metadata": {
        "id": "LFNidiztZ-F0"
      },
      "source": [
        "# Cleanup\n",
        "!rm -rf GlobalVoices*\n",
        "!rm -rf LICENSE\n",
        "!rm -rf README\n",
        "!rm -rf sample_data\n",
        "!rm -rf ca-es.txt.zip\n",
        "!rm -rf es-ca.txt"
      ],
      "execution_count": null,
      "outputs": []
    },
    {
      "cell_type": "markdown",
      "metadata": {
        "id": "5O6zYVU4d8le"
      },
      "source": [
        "# Run this if you want to download the data"
      ]
    },
    {
      "cell_type": "code",
      "metadata": {
        "id": "LxJt_-yHd7nb"
      },
      "source": [
        "#!zip -r src_pvt_data.zip src_pvt_data/\n",
        "!zip -r pvt_tgt_data.zip pvt_tgt_data/\n",
        "!zip -r src_tgt_data.zip src_tgt_data/\n",
        "\n",
        "#!cp src_pvt_data.zip '/content/gdrive/My Drive/capstone-data-final/'\n",
        "!cp pvt_tgt_data.zip '/content/gdrive/My Drive/capstone-data-final/'\n",
        "!cp src_tgt_data.zip '/content/gdrive/My Drive/capstone-data-final/'"
      ],
      "execution_count": null,
      "outputs": []
    },
    {
      "cell_type": "code",
      "metadata": {
        "id": "Uwrw58C3x_7a"
      },
      "source": [
        "!cp '/content/gdrive/My Drive/capstone-data-final/es-ca.txt.gz' .\n",
        "!gzip -d es-ca.txt.gz"
      ],
      "execution_count": null,
      "outputs": []
    },
    {
      "cell_type": "code",
      "metadata": {
        "id": "RgDPb7s8_xGN"
      },
      "source": [
        "es_data = []\n",
        "ca_data = []\n",
        "with open('es-ca.txt') as f:\n",
        "  count = 0\n",
        "  for line in f.readlines():\n",
        "    es_line, ca_line = line.split('\\t')\n",
        "    es_data.append(es_line)\n",
        "    #ca_data.append(ca_line)\n",
        "    count+=1\n",
        "    if count % 1000 == 0:\n",
        "      print(f\"Reading line {count}\")"
      ],
      "execution_count": null,
      "outputs": []
    },
    {
      "cell_type": "code",
      "metadata": {
        "id": "iftzZ9mhZE9K"
      },
      "source": [
        "with open(\"es_ca/es-ca.es\", mode='w') as f:\n",
        "  for line in es_data:\n",
        "    f.write(line + \"\\n\")\n",
        "\n",
        "#with open(\"es_ca/es-ca.ca\", mode='w') as f:\n",
        "#  for line in ca_data:\n",
        "#    f.write(line + \"\\n\")"
      ],
      "execution_count": null,
      "outputs": []
    },
    {
      "cell_type": "code",
      "metadata": {
        "colab": {
          "base_uri": "https://localhost:8080/"
        },
        "id": "Gp_hJ92A_wC5",
        "outputId": "ae1f393f-a13f-4f83-efab-755788b68ccd"
      },
      "source": [
        "!zip -r es_ca.zip es_ca"
      ],
      "execution_count": null,
      "outputs": [
        {
          "output_type": "stream",
          "text": [
            "updating: es_ca/ (stored 0%)\n",
            "  adding: es_ca/es-ca.ca (deflated 63%)\n",
            "  adding: es_ca/.ipynb_checkpoints/ (stored 0%)\n",
            "  adding: es_ca/es-ca.es (deflated 63%)\n"
          ],
          "name": "stdout"
        }
      ]
    },
    {
      "cell_type": "code",
      "metadata": {
        "colab": {
          "base_uri": "https://localhost:8080/"
        },
        "id": "7EahyGDeauGk",
        "outputId": "cf3d884f-a498-4573-cc21-919b633fc75e"
      },
      "source": [
        "from google.colab import drive\n",
        "drive.mount('/content/gdrive',force_remount=True)"
      ],
      "execution_count": null,
      "outputs": [
        {
          "output_type": "stream",
          "text": [
            "Mounted at /content/gdrive\n"
          ],
          "name": "stdout"
        }
      ]
    },
    {
      "cell_type": "code",
      "metadata": {
        "id": "4sdxJIcfb8pO"
      },
      "source": [
        "!cp es_ca.zip '/content/gdrive/My Drive/capstone-data-final/es_ca.zip'\n",
        "!cp es_it.zip '/content/gdrive/My Drive/capstone-data-final/es_it.zip'\n",
        "!cp ca_it.zip '/content/gdrive/My Drive/capstone-data-final/ca_it.zip'"
      ],
      "execution_count": null,
      "outputs": []
    },
    {
      "cell_type": "code",
      "metadata": {
        "id": "oxhcSsckc9eJ"
      },
      "source": [
        "import os\n",
        "file_path = 'es_it/es-it.it' #'/content/gdrive/My Drive/capstone-data-final/es_it.zip'\n",
        "fileSize = os.path.getsize(file_path)"
      ],
      "execution_count": null,
      "outputs": []
    },
    {
      "cell_type": "code",
      "metadata": {
        "colab": {
          "base_uri": "https://localhost:8080/"
        },
        "id": "nr0Wk7kSdEUA",
        "outputId": "3fa39c95-185f-4560-8983-41159eb78607"
      },
      "source": [
        "fileSize"
      ],
      "execution_count": null,
      "outputs": [
        {
          "output_type": "execute_result",
          "data": {
            "text/plain": [
              "2290320867"
            ]
          },
          "metadata": {
            "tags": []
          },
          "execution_count": 15
        }
      ]
    }
  ]
}